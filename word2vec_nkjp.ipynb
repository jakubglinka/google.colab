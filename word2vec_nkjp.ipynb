{
  "nbformat": 4,
  "nbformat_minor": 0,
  "metadata": {
    "colab": {
      "name": "word2vec_nkjp",
      "version": "0.3.2",
      "provenance": [],
      "collapsed_sections": [],
      "toc_visible": true,
      "include_colab_link": true
    },
    "kernelspec": {
      "name": "python3",
      "display_name": "Python 3"
    }
  },
  "cells": [
    {
      "cell_type": "markdown",
      "metadata": {
        "id": "view-in-github",
        "colab_type": "text"
      },
      "source": [
        "<a href=\"https://colab.research.google.com/github/jakubglinka/google.colab/blob/master/word2vec_nkjp.ipynb\" target=\"_parent\"><img src=\"https://colab.research.google.com/assets/colab-badge.svg\" alt=\"Open In Colab\"/></a>"
      ]
    },
    {
      "metadata": {
        "id": "Y3WWnFCXAbGo",
        "colab_type": "text"
      },
      "cell_type": "markdown",
      "source": [
        "# CBOW word2vec model on National Korpus of Polish Language\n",
        "\n",
        "## Outline:\n",
        " \n",
        " - prepare data\n",
        " - train embeddings\n",
        " - train sentiment classifier\n",
        "\n",
        "Remarks: use Tensorflow 2.0:\n",
        "\n",
        "https://github.com/tensorflow/docs/blob/master/site/en/r2/guide/effective_tf2.md\n",
        "\n",
        "### TODO's:\n",
        "  - nkjp class with following functionalities:\n",
        "    - download\n",
        "    - summary\n",
        "    - split into train, valid and test (using whole texts I guess) stratified by type of text\n",
        "    - generate random sample of n sentences (segment on the fly) from traning/test/validation part\n",
        "    - train segmentor\n",
        "    - prepare tokenisation\n",
        "  - sentencepeice tokenisation\n",
        "\n",
        "### Install dependencies:"
      ]
    },
    {
      "metadata": {
        "id": "y9oM_068wvpp",
        "colab_type": "code",
        "colab": {
          "base_uri": "https://localhost:8080/",
          "height": 440
        },
        "outputId": "58e2fc76-7305-4a61-cee6-f27a918413d4"
      },
      "cell_type": "code",
      "source": [
        "!pip install untangle tf-nightly-2.0-preview sentencepiece nltk wget tqdm"
      ],
      "execution_count": 55,
      "outputs": [
        {
          "output_type": "stream",
          "text": [
            "Requirement already satisfied: untangle in /usr/local/lib/python3.6/dist-packages (1.1.1)\n",
            "Requirement already satisfied: tf-nightly-2.0-preview in /usr/local/lib/python3.6/dist-packages (2.0.0.dev20190218)\n",
            "Requirement already satisfied: sentencepiece in /usr/local/lib/python3.6/dist-packages (0.1.8)\n",
            "Requirement already satisfied: nltk in /usr/local/lib/python3.6/dist-packages (3.2.5)\n",
            "Requirement already satisfied: wget in /usr/local/lib/python3.6/dist-packages (3.2)\n",
            "Requirement already satisfied: tqdm in /usr/local/lib/python3.6/dist-packages (4.28.1)\n",
            "Requirement already satisfied: wheel>=0.26 in /usr/local/lib/python3.6/dist-packages (from tf-nightly-2.0-preview) (0.33.0)\n",
            "Requirement already satisfied: tb-nightly<1.14.0a0,>=1.13.0a0 in /usr/local/lib/python3.6/dist-packages (from tf-nightly-2.0-preview) (1.13.0a20190218)\n",
            "Requirement already satisfied: termcolor>=1.1.0 in /usr/local/lib/python3.6/dist-packages (from tf-nightly-2.0-preview) (1.1.0)\n",
            "Requirement already satisfied: keras-applications>=1.0.6 in /usr/local/lib/python3.6/dist-packages (from tf-nightly-2.0-preview) (1.0.7)\n",
            "Requirement already satisfied: protobuf>=3.6.1 in /usr/local/lib/python3.6/dist-packages (from tf-nightly-2.0-preview) (3.6.1)\n",
            "Requirement already satisfied: six>=1.10.0 in /usr/local/lib/python3.6/dist-packages (from tf-nightly-2.0-preview) (1.11.0)\n",
            "Requirement already satisfied: absl-py>=0.1.6 in /usr/local/lib/python3.6/dist-packages (from tf-nightly-2.0-preview) (0.7.0)\n",
            "Requirement already satisfied: tensorflow-estimator-2.0-preview in /usr/local/lib/python3.6/dist-packages (from tf-nightly-2.0-preview) (1.14.0.dev2019021800)\n",
            "Requirement already satisfied: astor>=0.6.0 in /usr/local/lib/python3.6/dist-packages (from tf-nightly-2.0-preview) (0.7.1)\n",
            "Requirement already satisfied: grpcio>=1.8.6 in /usr/local/lib/python3.6/dist-packages (from tf-nightly-2.0-preview) (1.15.0)\n",
            "Requirement already satisfied: keras-preprocessing>=1.0.5 in /usr/local/lib/python3.6/dist-packages (from tf-nightly-2.0-preview) (1.0.9)\n",
            "Requirement already satisfied: numpy<2.0,>=1.14.5 in /usr/local/lib/python3.6/dist-packages (from tf-nightly-2.0-preview) (1.14.6)\n",
            "Requirement already satisfied: gast>=0.2.0 in /usr/local/lib/python3.6/dist-packages (from tf-nightly-2.0-preview) (0.2.2)\n",
            "Requirement already satisfied: google-pasta>=0.1.1 in /usr/local/lib/python3.6/dist-packages (from tf-nightly-2.0-preview) (0.1.3)\n",
            "Requirement already satisfied: werkzeug>=0.11.15 in /usr/local/lib/python3.6/dist-packages (from tb-nightly<1.14.0a0,>=1.13.0a0->tf-nightly-2.0-preview) (0.14.1)\n",
            "Requirement already satisfied: markdown>=2.6.8 in /usr/local/lib/python3.6/dist-packages (from tb-nightly<1.14.0a0,>=1.13.0a0->tf-nightly-2.0-preview) (3.0.1)\n",
            "Requirement already satisfied: h5py in /usr/local/lib/python3.6/dist-packages (from keras-applications>=1.0.6->tf-nightly-2.0-preview) (2.8.0)\n",
            "Requirement already satisfied: setuptools in /usr/local/lib/python3.6/dist-packages (from protobuf>=3.6.1->tf-nightly-2.0-preview) (40.8.0)\n"
          ],
          "name": "stdout"
        }
      ]
    },
    {
      "metadata": {
        "id": "u1vG-a7jwMz9",
        "colab_type": "text"
      },
      "cell_type": "markdown",
      "source": [
        "# Prepare corpus\n",
        "\n",
        "http://nkjp.pl/settings/papers/NKJP_ksiazka.pdf\n",
        "\n",
        "*   Segment tokenizer using NLTK\n",
        "*   Training folder (for both sentence pieces and word2vec embedding)\n",
        "*   Test folder\n",
        "\n"
      ]
    },
    {
      "metadata": {
        "id": "UKABzFnV1x4O",
        "colab_type": "code",
        "colab": {
          "base_uri": "https://localhost:8080/",
          "height": 34
        },
        "outputId": "2592e864-a6dc-4307-8cbb-1d6bb49505d2"
      },
      "cell_type": "code",
      "source": [
        "!rm -rf nkjp* NKJP*\n",
        "!ls"
      ],
      "execution_count": 57,
      "outputs": [
        {
          "output_type": "stream",
          "text": [
            "m.model  m.vocab  sample_data  text.txt\n"
          ],
          "name": "stdout"
        }
      ]
    },
    {
      "metadata": {
        "id": "eiPjiqUAmoaI",
        "colab_type": "code",
        "colab": {
          "base_uri": "https://localhost:8080/",
          "height": 67
        },
        "outputId": "58b68648-94f3-4f93-b331-94acacb1fa34"
      },
      "cell_type": "code",
      "source": [
        "import subprocess\n",
        "import tqdm\n",
        "\n",
        "class tqdm_wget_pbar:\n",
        "  def __enter__(self):\n",
        "    self.elapsed = None\n",
        "    self.tqdm = None\n",
        "    return self\n",
        "\n",
        "  def update(self, elapsed, total, done):\n",
        "    if self.tqdm is None:\n",
        "      self.tqdm = tqdm.tqdm(total=round(total / 1e6), unit=\"MB\", unit_scale=True)\n",
        "      self.tqdm.update(round(elapsed / 1e6, 2))\n",
        "      self.elapsed = elapsed\n",
        "    else:\n",
        "      self.tqdm.update(round((elapsed - self.elapsed) / 1e6, 5))\n",
        "      self.elapsed = elapsed\n",
        "\n",
        "  def __exit__(self, b, c, d):\n",
        "    self.tqdm.close()\n",
        "\n",
        "class NKJP:\n",
        " \n",
        "  def __init__(self, dir: str, url: str = None):\n",
        "    self.url = \"http://clip.ipipan.waw.pl/NationalCorpusOfPolish?action=AttachFile&do=get&target=NKJP-PodkorpusMilionowy-1.2.tar.gz\"\n",
        "    self.dir = dir\n",
        "  \n",
        "  def is_downloaded(self) -> bool:  \n",
        "    return os.path.exists(self.dir)\n",
        "  \n",
        "  def download(self):\n",
        "        \n",
        "    if self.is_downloaded() == False:\n",
        "      \n",
        "      os.mkdir(self.dir)\n",
        "      with tqdm_wget_pbar() as pbar:\n",
        "        _pbar = lambda elapsed, total, done: pbar.update(elapsed, total, done) \n",
        "        wget.download(url=self.url, \n",
        "                      out= self.dir + \"/nkjp.tar.gz\",\n",
        "                      bar=_pbar)      \n",
        "    else:\n",
        "      print(\"nkjp already downloaded, reusing...\")\n",
        "\n",
        "  \n",
        "nkjp = NKJP(\"./nkjp/\")\n",
        "print(nkjp.is_downloaded())\n",
        "nkjp.download()\n",
        "\n",
        "!ls\n"
      ],
      "execution_count": 59,
      "outputs": [
        {
          "output_type": "stream",
          "text": [
            "True\n",
            "nkjp already downloaded, reusing...\n",
            "m.model  m.vocab  nkjp\tsample_data  text.txt\n"
          ],
          "name": "stdout"
        }
      ]
    },
    {
      "metadata": {
        "id": "upvu7-UhAwa-",
        "colab_type": "text"
      },
      "cell_type": "markdown",
      "source": [
        "# Text pre-processing:\n",
        "\n",
        "http://www.aclweb.org/anthology/P16-1162\n",
        "\n",
        "  - sentencepiece"
      ]
    },
    {
      "metadata": {
        "id": "VrqFXh7cojSa",
        "colab_type": "code",
        "outputId": "cf62d590-d05e-4895-91fb-aea3f92c871b",
        "colab": {
          "base_uri": "https://localhost:8080/",
          "height": 50
        }
      },
      "cell_type": "code",
      "source": [
        "!echo \"To jest mój tekst w języku Polskim .\" > text.txt\n",
        "!echo \"Zdanie drugie .\" >> text.txt\n",
        "\n",
        "!head text.txt"
      ],
      "execution_count": 2,
      "outputs": [
        {
          "output_type": "stream",
          "text": [
            "To jest mój tekst w języku Polskim .\n",
            "Zdanie drugie .\n"
          ],
          "name": "stdout"
        }
      ]
    },
    {
      "metadata": {
        "id": "gOzAjkNqsOPF",
        "colab_type": "code",
        "outputId": "0855ae2d-7b3a-47c3-9f39-7a0aad97b0e9",
        "colab": {
          "base_uri": "https://localhost:8080/",
          "height": 34
        }
      },
      "cell_type": "code",
      "source": [
        "!pwd"
      ],
      "execution_count": 0,
      "outputs": [
        {
          "output_type": "stream",
          "text": [
            "/content\n"
          ],
          "name": "stdout"
        }
      ]
    },
    {
      "metadata": {
        "id": "3RCbHdPhBYyw",
        "colab_type": "code",
        "outputId": "9cb22974-cffe-45e1-9520-45229f3a36b7",
        "colab": {
          "base_uri": "https://localhost:8080/",
          "height": 50
        }
      },
      "cell_type": "code",
      "source": [
        "import sentencepiece as spm\n",
        "spm.SentencePieceTrainer.Train(\"--input=/content/text.txt --model_prefix=m --vocab_size=13 --model_type=word\")\n",
        "sp = spm.SentencePieceProcessor()\n",
        "sp.Load(\"/content/m.model\")\n",
        "\n",
        "\n",
        "sp.EncodeAsPieces(\"To jest mój tekst w języku Polskim , słowo nieznane .\")\n",
        "ids = sp.EncodeAsIds(\"\"\"To jest mój tekst w języku Polskim , słowo nieznane . To jest drugie zdanie .\"\"\")\n",
        "print(ids)\n",
        "sp.DecodeIds(ids)\n",
        "\n",
        "# sp.EncodeAsPieces(\"This is a test\")"
      ],
      "execution_count": 5,
      "outputs": [
        {
          "output_type": "stream",
          "text": [
            "[5, 8, 10, 11, 12, 9, 4, 0, 3, 5, 8, 7, 0, 3]\n"
          ],
          "name": "stdout"
        },
        {
          "output_type": "execute_result",
          "data": {
            "text/plain": [
              "'To jest mój tekst w języku Polskim ⁇  . To jest drugie ⁇  .'"
            ]
          },
          "metadata": {
            "tags": []
          },
          "execution_count": 5
        }
      ]
    },
    {
      "metadata": {
        "id": "qhv0Fyhzu7Xf",
        "colab_type": "code",
        "outputId": "7f345fb2-bc59-49d9-a36f-c9369ec0b656",
        "colab": {
          "base_uri": "https://localhost:8080/",
          "height": 32
        }
      },
      "cell_type": "code",
      "source": [
        "spm"
      ],
      "execution_count": 0,
      "outputs": [
        {
          "output_type": "execute_result",
          "data": {
            "text/plain": [
              "True"
            ]
          },
          "metadata": {
            "tags": []
          },
          "execution_count": 55
        }
      ]
    },
    {
      "metadata": {
        "id": "lYL1xqMZ_mON",
        "colab_type": "code",
        "colab": {}
      },
      "cell_type": "code",
      "source": [
        "import tensorflow as tf\n",
        "import untangle as unt"
      ],
      "execution_count": 0,
      "outputs": []
    },
    {
      "metadata": {
        "id": "80hdQQqF_tcS",
        "colab_type": "code",
        "colab": {}
      },
      "cell_type": "code",
      "source": [
        "# download and extract korpus from ipipan website\n",
        "\n",
        "!wget \"http://clip.ipipan.waw.pl/NationalCorpusOfPolish?action=AttachFile&do=get&target=NKJP-PodkorpusMilionowy-1.2.tar.gz\" -O nkjp.tar.gz\n",
        "!mkdir nkjp\n",
        "!tar -C ./nkjp -zxf nkjp.tar.gz -o\n",
        "!ls"
      ],
      "execution_count": 0,
      "outputs": []
    },
    {
      "metadata": {
        "id": "FfT8kcCQ_34P",
        "colab_type": "code",
        "outputId": "0d53dfb0-aa57-4631-fa07-907b4e233ca7",
        "colab": {
          "base_uri": "https://localhost:8080/",
          "height": 1019
        }
      },
      "cell_type": "code",
      "source": [
        "!ls ./nkjp/ | head -n 2\n",
        "!cat ./nkjp/030-2-000000001/text.xml"
      ],
      "execution_count": 0,
      "outputs": [
        {
          "output_type": "stream",
          "text": [
            "010-2-000000001\n",
            "030-2-000000001\n",
            "<?xml version=\"1.0\" encoding=\"UTF-8\"?>\n",
            "<teiCorpus xmlns:xi=\"http://www.w3.org/2001/XInclude\" xmlns=\"http://www.tei-c.org/ns/1.0\">\n",
            " <xi:include href=\"NKJP_1M_header.xml\"/>\n",
            " <TEI>\n",
            "  <xi:include href=\"header.xml\"/>\n",
            "  <text xml:id=\"txt_text\" xml:lang=\"pl\">\n",
            "   <body xml:id=\"txt_body\">\n",
            "    <div xml:id=\"txt_1-div\" decls=\"#h_1-bibl\">\n",
            "     <ab n=\"p882in890of:PWN:030-2-000000001\" xml:id=\"txt_1.1-ab\">Łzy padały na cremoński lakier. Szkoda, nie wolno było niszczyć przedmiotu, na który ojciec, biedaczysko, wydał całą schedę po Luizie... Otarła je lewą, umęczoną ręką.</ab>\n",
            "     <ab n=\"p883in891of:PWN:030-2-000000001\" xml:id=\"txt_1.2-ab\">Wszedł Adam. Zawiało wodą kwiatową Maréchal Niel. Starannie domykał drzwi za sobą.</ab>\n",
            "     <ab n=\"p884in892of:PWN:030-2-000000001\" xml:id=\"txt_1.3-ab\">Trwała dalej w bezruchu.</ab>\n",
            "    </div>\n",
            "    <div xml:id=\"txt_2-div\" decls=\"#h_2-bibl\">\n",
            "     <ab n=\"p45in53of:PWN:030-2-000000001\" xml:id=\"txt_2.1-ab\">Pan dyrektor był nieobecny, a Róża stała pod piecem, czekając, kiedy panna Aniela Bądska ukończy gamy i zechce łaskawie zaakompaniować jedynej uczennicy papy \"Moment musical\" Szuberta. Jedynej uczennicy - pierwszej \"adeptce\" skrzypiec Warszawskiego Konserwatorium na Tamce. Czarnej, chudej dziewczynie z rumieńcami latającymi jak płomień po śniadych policzkach, z lśniącym długim warkoczem, z kacapską wymową i z niemodnym medalionem na szyi.</ab>\n",
            "    </div>\n",
            "    <div xml:id=\"txt_3-div\" decls=\"#h_3-bibl\">\n",
            "     <ab n=\"p804in812of:PWN:030-2-000000001\" xml:id=\"txt_3.1-ab\">To wszystko było nowe. Nowe także były miesięczne wędrówki na grób męża i sjesty na cmentarnej ławeczce, ze wzrokiem żarliwie utkwionym w darninę. I łzy po nocach, i nasłuchiwanie, czy Stenia nie kaszle, i rumieńce wstydu, gdy pytano przy wnukach: a gdzież to pan zięć? a cóż to o panu inżynierze nie słychać?</ab>\n",
            "    </div>\n",
            "    <div xml:id=\"txt_4-div\" decls=\"#h_4-bibl\">\n",
            "     <ab n=\"p114in122of:PWN:030-2-000000001\" xml:id=\"txt_4.1-ab\">Prawie wesoła - dokończyła przy pomocy krokodyla zdejmowania chusty. Strzepnęła ją, złożyła, odniosła tamże, gdzie portrecik ojca.</ab>\n",
            "     <ab n=\"p115in123of:PWN:030-2-000000001\" xml:id=\"txt_4.2-ab\">Telefon zadzwonił, upudrowała się gorączkowo, przybrała oschły wyraz twarzy - może Marta? - i podeszła do aparatu. Ledwie zdjęła słuchawkę, Sabina przycwałowała słoniowym truchtem przez korytarz.</ab>\n",
            "    </div>\n",
            "    <div xml:id=\"txt_5-div\" decls=\"#h_5-bibl\">\n",
            "     <ab n=\"p1275in1283of:PWN:030-2-000000001\" xml:id=\"txt_5.1-ab\">Róża milczała. Słuchała napomnień jak ptasiego szczebiotu, który do niczego nie obowiązuje, gdyż nic ludzkiego nie oznacza. Oczy powlekła biaława szklistość, co wzmogło tajemnicę spojrzenia. Wydawała się spoczywać po niezmiernym wysiłku - szczęśliwa ze zdobyczy, pewna własnej potęgi, wreszcie syta wiedzy i spokoju.</ab>\n",
            "     <ab n=\"p1276in1284of:PWN:030-2-000000001\" xml:id=\"txt_5.2-ab\">Uśmiechnęła się do córki ze swej błogiej dali.</ab>\n",
            "    </div>\n",
            "    <div xml:id=\"txt_6-div\" decls=\"#h_6-bibl\">\n",
            "     <ab n=\"p100in108of:PWN:030-2-000000001\" xml:id=\"txt_6.1-ab\">Radio gra \"Close your eyes\". Róża - wzburzona pominięciem przez córkę swojej wizyty, zirytowana brakiem szacunku tutaj, w tym zięciowskim domu, dla empirowego stolika, zmęczona gniewem - usłyszała pieśń i pragnęła zapomnieć, jaki jest dzień, jaka sytuacja.</ab>\n",
            "     <ab n=\"p101in109of:PWN:030-2-000000001\" xml:id=\"txt_6.2-ab\">Zerknęła w lustro, obciągnęła na sobie sweter w czerwone skrzydła...</ab>\n",
            "    </div>\n",
            "    <div xml:id=\"txt_7-div\" decls=\"#h_7-bibl\">\n",
            "     <ab n=\"p1785in1793of:PWN:030-2-000000001\" xml:id=\"txt_7.1-ab\">Marta rzuciła telefon; stając na progu, stanęła twarzą w twarz z matką. Róża - wysoko osadzona - patrzyła przed siebie nad miarę otwartymi oczami. W tych oczach odbijał się widok nietutejszy. Źrenice usiłowały go ogarnąć w całej jego dzikiej wielkości, rozszerzały się, rosły ciągle Marta w smudze nieziemskiego widzenia szła ścierpnięta. Uklękła... Opasała ramionami duże, ciepłe ciało, przytuliła głowę do łona, które ją wydało światu.</ab>\n",
            "    </div>\n",
            "    <div xml:id=\"txt_8-div\" decls=\"#h_8-bibl\">\n",
            "     <ab n=\"p1013in1021of:PWN:030-2-000000001\" xml:id=\"txt_8.1-ab\">W okresie szkolnym nie inaczej przedstawiała się sprawa koleżanek. Raz do roku tylko bywały zapraszane. Róża wtedy występowała ze wspaniałym przyjęciem. Stół uginał się pod tortami, owocami, kremami, z mebli zdejmowano pokrowce, srebra błyszczały, posadzki lśniły. Program zabawy był ściśle ustalony. Zazwyczaj latarnia czarnoksięska zajmowała gros czasu, później należało kolejno deklamować wiersze, godzinę trwał \"talar\" i \"pierścionek\", godzinę tańce, przeplatane grą w szarady i lemoniadę. O ósmej wieczór gości żegnano.</ab>\n",
            "    </div>\n",
            "    <div xml:id=\"txt_9-div\" decls=\"#h_9-bibl\">\n",
            "     <ab n=\"p167in175of:PWN:030-2-000000001\" xml:id=\"txt_9.1-ab\">Ewa, Éveline - to było imię, które nadała jej Luiza, dla względów prestiżowych. Róża pamiętała dobrze ten dzień.</ab>\n",
            "     <ab n=\"p168in176of:PWN:030-2-000000001\" xml:id=\"txt_9.2-ab\">Jesienią w niedzielę szły z ciotką na obrzędowy spacer do Łazienek, placem Wareckim, ulicą Szpitalną, Bracką, Alejami... Dorożki i kabriolety turkotały po wyboistym bruku. W pojazdach piętrzyły się damy i dziewczynki, szumiące od krochmalu, od jedwabiu liberty, od ostrowłosej sztywnej wełny. Panowie w cylindrach i w melonikach tkwili bokiem na przednich ławeczkach.</ab>\n",
            "    </div>\n",
            "    <div xml:id=\"txt_10-div\" decls=\"#h_10-bibl\">\n",
            "     <ab n=\"p1240in1248of:PWN:030-2-000000001\" xml:id=\"txt_10.1-ab\">Wówczas Martę strach przejął. Jak to? Więc śpiew córki przestał być własną sprawą Róży? Więc pojawiły się jakieś inne sprawy? Prawda: codzienny, nieubłagany przymus \"stąd dotąd, stąd dotąd masz się nauczyć, pamiętaj, żeby następnym razem nie powtórzył się ten błąd\" - jak gdyby chodziło o małą, bezwolną dziewczynę - to dokuczało Marcie do żywego. Ale mimo wszystkie bunty - niczego tak nie lubiła jak widzieć matkę szczęśliwą ze swojej przyczyny.</ab>\n",
            "    </div>\n",
            "    <div xml:id=\"txt_11-div\" decls=\"#h_11-bibl\">\n",
            "     <ab n=\"p921in929of:PWN:030-2-000000001\" xml:id=\"txt_11.1-ab\">Marta ciskała nuty, zamykała się z trzaskiem u siebie.</ab>\n",
            "     <ab n=\"p922in930of:PWN:030-2-000000001\" xml:id=\"txt_11.2-ab\">W ciągu następnych lekcyj rozbujanie frazy dawało się powściągnąć, także styl i barwę uczuciową poddawała Róża; a jednak ostateczny rezultat pracy zawierał w sobie ten urzekający pierwiastek - nowość, którą do trudu kompozytora i Róży dodawała Marta z zasobów własnego organizmu. Róża chwytała dziewczęce fluidy, przesączone w melodie, doznając głębokiego wzruszenia: \"Więc to jest Marta, więc taka jest córeczka Adama\".</ab>\n",
            "    </div>\n",
            "    <div xml:id=\"txt_12-div\" decls=\"#h_12-bibl\">\n",
            "     <ab n=\"p878in886of:PWN:030-2-000000001\" xml:id=\"txt_12.1-ab\">Róża opuściła ręce. Siadła - nogi drżały. Rzuciła smyczek...</ab>\n",
            "     <ab n=\"p879in887of:PWN:030-2-000000001\" xml:id=\"txt_12.2-ab\">Księżycowa orkiestra pod batutą Brahmsa grała dalej. Tylko na miejscu skrzypiec wystąpiła cisza - czarna jak zaskórna woda. Jeszcze tu i ówdzie błyskał refleks sola... cisza przecież czyniła się coraz głębsza, szersza i pochłaniała resztkę wibracji. Z wolna milkły także widmowe instrumenty. Po jednemu wsiąkały w próżnię... Chaos bezdźwięczny pokrył wreszcie harmonię.</ab>\n",
            "    </div>\n",
            "   </body>\n",
            "  </text>\n",
            " </TEI>\n",
            "</teiCorpus>\n"
          ],
          "name": "stdout"
        }
      ]
    },
    {
      "metadata": {
        "id": "a7WzmYltBQsB",
        "colab_type": "code",
        "outputId": "971ac962-9c2e-428a-d309-c86a33177ee3",
        "colab": {
          "base_uri": "https://localhost:8080/",
          "height": 89
        }
      },
      "cell_type": "code",
      "source": [
        "xx = unt.parse(\"./nkjp/030-2-000000001/text.xml\")\n",
        "[xxx.cdata for xxx in xx.teiCorpus.TEI.text.body.div[11].ab]"
      ],
      "execution_count": 0,
      "outputs": [
        {
          "output_type": "execute_result",
          "data": {
            "text/plain": [
              "['Róża opuściła ręce. Siadła - nogi drżały. Rzuciła smyczek...',\n",
              " 'Księżycowa orkiestra pod batutą Brahmsa grała dalej. Tylko na miejscu skrzypiec wystąpiła cisza - czarna jak zaskórna woda. Jeszcze tu i ówdzie błyskał refleks sola... cisza przecież czyniła się coraz głębsza, szersza i pochłaniała resztkę wibracji. Z wolna milkły także widmowe instrumenty. Po jednemu wsiąkały w próżnię... Chaos bezdźwięczny pokrył wreszcie harmonię.']"
            ]
          },
          "metadata": {
            "tags": []
          },
          "execution_count": 35
        }
      ]
    },
    {
      "metadata": {
        "id": "w_XUO-mBwoZ_",
        "colab_type": "code",
        "colab": {}
      },
      "cell_type": "code",
      "source": [
        ""
      ],
      "execution_count": 0,
      "outputs": []
    },
    {
      "metadata": {
        "id": "OY6JLAEF9kb6",
        "colab_type": "code",
        "colab": {}
      },
      "cell_type": "code",
      "source": [
        "import tensorflow as tf"
      ],
      "execution_count": 0,
      "outputs": []
    },
    {
      "metadata": {
        "id": "u5mI16Zi90CZ",
        "colab_type": "code",
        "outputId": "a8ae24ae-a9c2-46fc-e962-f9124bebcfbb",
        "colab": {
          "base_uri": "https://localhost:8080/",
          "height": 32
        }
      },
      "cell_type": "code",
      "source": [
        "tf.__version__"
      ],
      "execution_count": 0,
      "outputs": [
        {
          "output_type": "execute_result",
          "data": {
            "text/plain": [
              "'2.0.0-dev20190217'"
            ]
          },
          "metadata": {
            "tags": []
          },
          "execution_count": 3
        }
      ]
    },
    {
      "metadata": {
        "id": "L7lFypis93ih",
        "colab_type": "code",
        "outputId": "232c0534-1880-4285-cec4-58a1cb760200",
        "colab": {
          "base_uri": "https://localhost:8080/",
          "height": 283
        }
      },
      "cell_type": "code",
      "source": [
        "x = tf.random.normal([2, 2])\n",
        "\n",
        "@tf.function\n",
        "def square(x: tf.Tensor) -> tf.Tensor:\n",
        "  return(tf.square(x))\n",
        "\n",
        "print(x)\n",
        "print(square(x))"
      ],
      "execution_count": 0,
      "outputs": [
        {
          "output_type": "stream",
          "text": [
            "WARNING: Logging before flag parsing goes to stderr.\n",
            "W0217 10:25:40.323168 140638079080320 tf_logging.py:161] Entity <function square at 0x7fe8b0f67f28> could not be transformed and will be staged without change. Error details can be found in the logs when running with the env variable AUTOGRAPH_VERBOSITY=5. Please report this to the AutoGraph team. Cause: Unexpected error transforming <function square at 0x7fe8b0f67f28>. If you believe this is due to a bug, please set the verbosity to 10 (on Linux, `export AUTOGRAPH_VERBOSITY=10`) and attach the full output when filing the bug report. Caused by: name 'tf' is not defined\n"
          ],
          "name": "stderr"
        },
        {
          "output_type": "stream",
          "text": [
            "tf.Tensor(\n",
            "[[-0.15044403  1.6586291 ]\n",
            " [ 1.1326104  -1.2539116 ]], shape=(2, 2), dtype=float32)\n",
            "WARNING: Entity <function square at 0x7fe8b0f67f28> could not be transformed and will be staged without change. Error details can be found in the logs when running with the env variable AUTOGRAPH_VERBOSITY=5. Please report this to the AutoGraph team. Cause: Unexpected error transforming <function square at 0x7fe8b0f67f28>. If you believe this is due to a bug, please set the verbosity to 10 (on Linux, `export AUTOGRAPH_VERBOSITY=10`) and attach the full output when filing the bug report. Caused by: name 'tf' is not defined\n",
            "tf.Tensor(\n",
            "[[0.02263341 2.7510505 ]\n",
            " [1.2828064  1.5722944 ]], shape=(2, 2), dtype=float32)\n"
          ],
          "name": "stdout"
        }
      ]
    },
    {
      "metadata": {
        "id": "yRtP-jjx-8th",
        "colab_type": "code",
        "colab": {}
      },
      "cell_type": "code",
      "source": [
        "??tf.function"
      ],
      "execution_count": 0,
      "outputs": []
    },
    {
      "metadata": {
        "id": "bNgZXpqk_eh6",
        "colab_type": "code",
        "colab": {}
      },
      "cell_type": "code",
      "source": [
        ""
      ],
      "execution_count": 0,
      "outputs": []
    }
  ]
}